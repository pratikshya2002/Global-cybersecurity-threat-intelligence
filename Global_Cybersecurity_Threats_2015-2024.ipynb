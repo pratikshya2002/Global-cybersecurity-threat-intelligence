{
 "cells": [
  {
   "cell_type": "markdown",
   "id": "01a416f3-4193-4f64-b737-2225d1a434bd",
   "metadata": {},
   "source": []
  },
  {
   "cell_type": "markdown",
   "id": "c0b31320-c704-45da-a97f-c25d83c3f4cc",
   "metadata": {},
   "source": [
    "# Import Library"
   ]
  },
  {
   "cell_type": "markdown",
   "id": "8ae25291-03e4-4ec0-bffc-64d24b088f43",
   "metadata": {},
   "source": [
    "import pandas as pd\n",
    "import numpy as np\n",
    "import matplotlib.pyplot as plt\n",
    "import seaborn as sns\n",
    "import warnings\n",
    "warnings.filterwarnings(\"ignore\")"
   ]
  },
  {
   "cell_type": "markdown",
   "id": "1748e1ee-c299-47b6-81f1-76790dd7b2cf",
   "metadata": {},
   "source": [
    "# Data Loading"
   ]
  },
  {
   "cell_type": "code",
   "execution_count": 2,
   "id": "029de3aa-aa82-451c-ba73-d367e516920f",
   "metadata": {},
   "outputs": [],
   "source": [
    "df = pd.read_csv(r\"C:\\Users\\91814\\Downloads\\Global_Cybersecurity_Threats_2015-2024.csv\")"
   ]
  },
  {
   "cell_type": "markdown",
   "id": "705db876-56d3-4bbc-8d7c-c760c73d86bf",
   "metadata": {},
   "source": [
    "# Data Understanding"
   ]
  },
  {
   "cell_type": "code",
   "execution_count": 3,
   "id": "ac288f40-4018-4407-9e71-eee23158d0a7",
   "metadata": {},
   "outputs": [
    {
     "data": {
      "text/plain": [
       "(3000, 10)"
      ]
     },
     "execution_count": 3,
     "metadata": {},
     "output_type": "execute_result"
    }
   ],
   "source": [
    "df.shape"
   ]
  },
  {
   "cell_type": "code",
   "execution_count": 4,
   "id": "0369539a-d0af-41d9-ba14-354fbb2760de",
   "metadata": {},
   "outputs": [
    {
     "data": {
      "text/plain": [
       "['Country',\n",
       " 'Year',\n",
       " 'Attack Type',\n",
       " 'Target Industry',\n",
       " 'Financial Loss (in Million $)',\n",
       " 'Number of Affected Users',\n",
       " 'Attack Source',\n",
       " 'Security Vulnerability Type',\n",
       " 'Defense Mechanism Used',\n",
       " 'Incident Resolution Time (in Hours)']"
      ]
     },
     "execution_count": 4,
     "metadata": {},
     "output_type": "execute_result"
    }
   ],
   "source": [
    "df.columns.tolist()"
   ]
  },
  {
   "cell_type": "code",
   "execution_count": 5,
   "id": "5964cb94-3efd-4ecd-8616-de9413545e47",
   "metadata": {},
   "outputs": [
    {
     "data": {
      "text/html": [
       "<div>\n",
       "<style scoped>\n",
       "    .dataframe tbody tr th:only-of-type {\n",
       "        vertical-align: middle;\n",
       "    }\n",
       "\n",
       "    .dataframe tbody tr th {\n",
       "        vertical-align: top;\n",
       "    }\n",
       "\n",
       "    .dataframe thead th {\n",
       "        text-align: right;\n",
       "    }\n",
       "</style>\n",
       "<table border=\"1\" class=\"dataframe\">\n",
       "  <thead>\n",
       "    <tr style=\"text-align: right;\">\n",
       "      <th></th>\n",
       "      <th>Country</th>\n",
       "      <th>Year</th>\n",
       "      <th>Attack Type</th>\n",
       "      <th>Target Industry</th>\n",
       "      <th>Financial Loss (in Million $)</th>\n",
       "      <th>Number of Affected Users</th>\n",
       "      <th>Attack Source</th>\n",
       "      <th>Security Vulnerability Type</th>\n",
       "      <th>Defense Mechanism Used</th>\n",
       "      <th>Incident Resolution Time (in Hours)</th>\n",
       "    </tr>\n",
       "  </thead>\n",
       "  <tbody>\n",
       "    <tr>\n",
       "      <th>0</th>\n",
       "      <td>China</td>\n",
       "      <td>2019</td>\n",
       "      <td>Phishing</td>\n",
       "      <td>Education</td>\n",
       "      <td>80.53</td>\n",
       "      <td>773169</td>\n",
       "      <td>Hacker Group</td>\n",
       "      <td>Unpatched Software</td>\n",
       "      <td>VPN</td>\n",
       "      <td>63</td>\n",
       "    </tr>\n",
       "    <tr>\n",
       "      <th>1</th>\n",
       "      <td>China</td>\n",
       "      <td>2019</td>\n",
       "      <td>Ransomware</td>\n",
       "      <td>Retail</td>\n",
       "      <td>62.19</td>\n",
       "      <td>295961</td>\n",
       "      <td>Hacker Group</td>\n",
       "      <td>Unpatched Software</td>\n",
       "      <td>Firewall</td>\n",
       "      <td>71</td>\n",
       "    </tr>\n",
       "    <tr>\n",
       "      <th>2</th>\n",
       "      <td>India</td>\n",
       "      <td>2017</td>\n",
       "      <td>Man-in-the-Middle</td>\n",
       "      <td>IT</td>\n",
       "      <td>38.65</td>\n",
       "      <td>605895</td>\n",
       "      <td>Hacker Group</td>\n",
       "      <td>Weak Passwords</td>\n",
       "      <td>VPN</td>\n",
       "      <td>20</td>\n",
       "    </tr>\n",
       "    <tr>\n",
       "      <th>3</th>\n",
       "      <td>UK</td>\n",
       "      <td>2024</td>\n",
       "      <td>Ransomware</td>\n",
       "      <td>Telecommunications</td>\n",
       "      <td>41.44</td>\n",
       "      <td>659320</td>\n",
       "      <td>Nation-state</td>\n",
       "      <td>Social Engineering</td>\n",
       "      <td>AI-based Detection</td>\n",
       "      <td>7</td>\n",
       "    </tr>\n",
       "    <tr>\n",
       "      <th>4</th>\n",
       "      <td>Germany</td>\n",
       "      <td>2018</td>\n",
       "      <td>Man-in-the-Middle</td>\n",
       "      <td>IT</td>\n",
       "      <td>74.41</td>\n",
       "      <td>810682</td>\n",
       "      <td>Insider</td>\n",
       "      <td>Social Engineering</td>\n",
       "      <td>VPN</td>\n",
       "      <td>68</td>\n",
       "    </tr>\n",
       "  </tbody>\n",
       "</table>\n",
       "</div>"
      ],
      "text/plain": [
       "   Country  Year        Attack Type     Target Industry  \\\n",
       "0    China  2019           Phishing           Education   \n",
       "1    China  2019         Ransomware              Retail   \n",
       "2    India  2017  Man-in-the-Middle                  IT   \n",
       "3       UK  2024         Ransomware  Telecommunications   \n",
       "4  Germany  2018  Man-in-the-Middle                  IT   \n",
       "\n",
       "   Financial Loss (in Million $)  Number of Affected Users Attack Source  \\\n",
       "0                          80.53                    773169  Hacker Group   \n",
       "1                          62.19                    295961  Hacker Group   \n",
       "2                          38.65                    605895  Hacker Group   \n",
       "3                          41.44                    659320  Nation-state   \n",
       "4                          74.41                    810682       Insider   \n",
       "\n",
       "  Security Vulnerability Type Defense Mechanism Used  \\\n",
       "0          Unpatched Software                    VPN   \n",
       "1          Unpatched Software               Firewall   \n",
       "2              Weak Passwords                    VPN   \n",
       "3          Social Engineering     AI-based Detection   \n",
       "4          Social Engineering                    VPN   \n",
       "\n",
       "   Incident Resolution Time (in Hours)  \n",
       "0                                   63  \n",
       "1                                   71  \n",
       "2                                   20  \n",
       "3                                    7  \n",
       "4                                   68  "
      ]
     },
     "execution_count": 5,
     "metadata": {},
     "output_type": "execute_result"
    }
   ],
   "source": [
    "df.head(5)"
   ]
  },
  {
   "cell_type": "code",
   "execution_count": 7,
   "id": "b2748489-7bfa-4f95-89ab-bfe725f7f04b",
   "metadata": {},
   "outputs": [
    {
     "data": {
      "text/html": [
       "<div>\n",
       "<style scoped>\n",
       "    .dataframe tbody tr th:only-of-type {\n",
       "        vertical-align: middle;\n",
       "    }\n",
       "\n",
       "    .dataframe tbody tr th {\n",
       "        vertical-align: top;\n",
       "    }\n",
       "\n",
       "    .dataframe thead th {\n",
       "        text-align: right;\n",
       "    }\n",
       "</style>\n",
       "<table border=\"1\" class=\"dataframe\">\n",
       "  <thead>\n",
       "    <tr style=\"text-align: right;\">\n",
       "      <th></th>\n",
       "      <th>Country</th>\n",
       "      <th>Year</th>\n",
       "      <th>Attack Type</th>\n",
       "      <th>Target Industry</th>\n",
       "      <th>Financial Loss (in Million $)</th>\n",
       "      <th>Number of Affected Users</th>\n",
       "      <th>Attack Source</th>\n",
       "      <th>Security Vulnerability Type</th>\n",
       "      <th>Defense Mechanism Used</th>\n",
       "      <th>Incident Resolution Time (in Hours)</th>\n",
       "    </tr>\n",
       "  </thead>\n",
       "  <tbody>\n",
       "    <tr>\n",
       "      <th>count</th>\n",
       "      <td>3000</td>\n",
       "      <td>3000.000000</td>\n",
       "      <td>3000</td>\n",
       "      <td>3000</td>\n",
       "      <td>3000.000000</td>\n",
       "      <td>3000.000000</td>\n",
       "      <td>3000</td>\n",
       "      <td>3000</td>\n",
       "      <td>3000</td>\n",
       "      <td>3000.000000</td>\n",
       "    </tr>\n",
       "    <tr>\n",
       "      <th>unique</th>\n",
       "      <td>10</td>\n",
       "      <td>NaN</td>\n",
       "      <td>6</td>\n",
       "      <td>7</td>\n",
       "      <td>NaN</td>\n",
       "      <td>NaN</td>\n",
       "      <td>4</td>\n",
       "      <td>4</td>\n",
       "      <td>5</td>\n",
       "      <td>NaN</td>\n",
       "    </tr>\n",
       "    <tr>\n",
       "      <th>top</th>\n",
       "      <td>UK</td>\n",
       "      <td>NaN</td>\n",
       "      <td>DDoS</td>\n",
       "      <td>IT</td>\n",
       "      <td>NaN</td>\n",
       "      <td>NaN</td>\n",
       "      <td>Nation-state</td>\n",
       "      <td>Zero-day</td>\n",
       "      <td>Antivirus</td>\n",
       "      <td>NaN</td>\n",
       "    </tr>\n",
       "    <tr>\n",
       "      <th>freq</th>\n",
       "      <td>321</td>\n",
       "      <td>NaN</td>\n",
       "      <td>531</td>\n",
       "      <td>478</td>\n",
       "      <td>NaN</td>\n",
       "      <td>NaN</td>\n",
       "      <td>794</td>\n",
       "      <td>785</td>\n",
       "      <td>628</td>\n",
       "      <td>NaN</td>\n",
       "    </tr>\n",
       "    <tr>\n",
       "      <th>mean</th>\n",
       "      <td>NaN</td>\n",
       "      <td>2019.570333</td>\n",
       "      <td>NaN</td>\n",
       "      <td>NaN</td>\n",
       "      <td>50.492970</td>\n",
       "      <td>504684.136333</td>\n",
       "      <td>NaN</td>\n",
       "      <td>NaN</td>\n",
       "      <td>NaN</td>\n",
       "      <td>36.476000</td>\n",
       "    </tr>\n",
       "    <tr>\n",
       "      <th>std</th>\n",
       "      <td>NaN</td>\n",
       "      <td>2.857932</td>\n",
       "      <td>NaN</td>\n",
       "      <td>NaN</td>\n",
       "      <td>28.791415</td>\n",
       "      <td>289944.084972</td>\n",
       "      <td>NaN</td>\n",
       "      <td>NaN</td>\n",
       "      <td>NaN</td>\n",
       "      <td>20.570768</td>\n",
       "    </tr>\n",
       "    <tr>\n",
       "      <th>min</th>\n",
       "      <td>NaN</td>\n",
       "      <td>2015.000000</td>\n",
       "      <td>NaN</td>\n",
       "      <td>NaN</td>\n",
       "      <td>0.500000</td>\n",
       "      <td>424.000000</td>\n",
       "      <td>NaN</td>\n",
       "      <td>NaN</td>\n",
       "      <td>NaN</td>\n",
       "      <td>1.000000</td>\n",
       "    </tr>\n",
       "    <tr>\n",
       "      <th>25%</th>\n",
       "      <td>NaN</td>\n",
       "      <td>2017.000000</td>\n",
       "      <td>NaN</td>\n",
       "      <td>NaN</td>\n",
       "      <td>25.757500</td>\n",
       "      <td>255805.250000</td>\n",
       "      <td>NaN</td>\n",
       "      <td>NaN</td>\n",
       "      <td>NaN</td>\n",
       "      <td>19.000000</td>\n",
       "    </tr>\n",
       "    <tr>\n",
       "      <th>50%</th>\n",
       "      <td>NaN</td>\n",
       "      <td>2020.000000</td>\n",
       "      <td>NaN</td>\n",
       "      <td>NaN</td>\n",
       "      <td>50.795000</td>\n",
       "      <td>504513.000000</td>\n",
       "      <td>NaN</td>\n",
       "      <td>NaN</td>\n",
       "      <td>NaN</td>\n",
       "      <td>37.000000</td>\n",
       "    </tr>\n",
       "    <tr>\n",
       "      <th>75%</th>\n",
       "      <td>NaN</td>\n",
       "      <td>2022.000000</td>\n",
       "      <td>NaN</td>\n",
       "      <td>NaN</td>\n",
       "      <td>75.630000</td>\n",
       "      <td>758088.500000</td>\n",
       "      <td>NaN</td>\n",
       "      <td>NaN</td>\n",
       "      <td>NaN</td>\n",
       "      <td>55.000000</td>\n",
       "    </tr>\n",
       "    <tr>\n",
       "      <th>max</th>\n",
       "      <td>NaN</td>\n",
       "      <td>2024.000000</td>\n",
       "      <td>NaN</td>\n",
       "      <td>NaN</td>\n",
       "      <td>99.990000</td>\n",
       "      <td>999635.000000</td>\n",
       "      <td>NaN</td>\n",
       "      <td>NaN</td>\n",
       "      <td>NaN</td>\n",
       "      <td>72.000000</td>\n",
       "    </tr>\n",
       "  </tbody>\n",
       "</table>\n",
       "</div>"
      ],
      "text/plain": [
       "       Country         Year Attack Type Target Industry  \\\n",
       "count     3000  3000.000000        3000            3000   \n",
       "unique      10          NaN           6               7   \n",
       "top         UK          NaN        DDoS              IT   \n",
       "freq       321          NaN         531             478   \n",
       "mean       NaN  2019.570333         NaN             NaN   \n",
       "std        NaN     2.857932         NaN             NaN   \n",
       "min        NaN  2015.000000         NaN             NaN   \n",
       "25%        NaN  2017.000000         NaN             NaN   \n",
       "50%        NaN  2020.000000         NaN             NaN   \n",
       "75%        NaN  2022.000000         NaN             NaN   \n",
       "max        NaN  2024.000000         NaN             NaN   \n",
       "\n",
       "        Financial Loss (in Million $)  Number of Affected Users Attack Source  \\\n",
       "count                     3000.000000               3000.000000          3000   \n",
       "unique                            NaN                       NaN             4   \n",
       "top                               NaN                       NaN  Nation-state   \n",
       "freq                              NaN                       NaN           794   \n",
       "mean                        50.492970             504684.136333           NaN   \n",
       "std                         28.791415             289944.084972           NaN   \n",
       "min                          0.500000                424.000000           NaN   \n",
       "25%                         25.757500             255805.250000           NaN   \n",
       "50%                         50.795000             504513.000000           NaN   \n",
       "75%                         75.630000             758088.500000           NaN   \n",
       "max                         99.990000             999635.000000           NaN   \n",
       "\n",
       "       Security Vulnerability Type Defense Mechanism Used  \\\n",
       "count                         3000                   3000   \n",
       "unique                           4                      5   \n",
       "top                       Zero-day              Antivirus   \n",
       "freq                           785                    628   \n",
       "mean                           NaN                    NaN   \n",
       "std                            NaN                    NaN   \n",
       "min                            NaN                    NaN   \n",
       "25%                            NaN                    NaN   \n",
       "50%                            NaN                    NaN   \n",
       "75%                            NaN                    NaN   \n",
       "max                            NaN                    NaN   \n",
       "\n",
       "        Incident Resolution Time (in Hours)  \n",
       "count                           3000.000000  \n",
       "unique                                  NaN  \n",
       "top                                     NaN  \n",
       "freq                                    NaN  \n",
       "mean                              36.476000  \n",
       "std                               20.570768  \n",
       "min                                1.000000  \n",
       "25%                               19.000000  \n",
       "50%                               37.000000  \n",
       "75%                               55.000000  \n",
       "max                               72.000000  "
      ]
     },
     "execution_count": 7,
     "metadata": {},
     "output_type": "execute_result"
    }
   ],
   "source": [
    "df.describe(include = 'all')"
   ]
  },
  {
   "cell_type": "code",
   "execution_count": 8,
   "id": "6765f448-927a-479e-bb93-b218354eb66b",
   "metadata": {},
   "outputs": [
    {
     "data": {
      "text/plain": [
       "Country                                0\n",
       "Year                                   0\n",
       "Attack Type                            0\n",
       "Target Industry                        0\n",
       "Financial Loss (in Million $)          0\n",
       "Number of Affected Users               0\n",
       "Attack Source                          0\n",
       "Security Vulnerability Type            0\n",
       "Defense Mechanism Used                 0\n",
       "Incident Resolution Time (in Hours)    0\n",
       "dtype: int64"
      ]
     },
     "execution_count": 8,
     "metadata": {},
     "output_type": "execute_result"
    }
   ],
   "source": [
    "df.isna().sum()"
   ]
  },
  {
   "cell_type": "code",
   "execution_count": 9,
   "id": "794727cd-f739-4f43-a436-7ae3400025dc",
   "metadata": {},
   "outputs": [
    {
     "data": {
      "text/plain": [
       "0"
      ]
     },
     "execution_count": 9,
     "metadata": {},
     "output_type": "execute_result"
    }
   ],
   "source": [
    "df.duplicated().sum()"
   ]
  },
  {
   "cell_type": "code",
   "execution_count": 10,
   "id": "319131c3-ddab-4b88-a247-053d4bc6d050",
   "metadata": {},
   "outputs": [
    {
     "data": {
      "text/plain": [
       "Country                                 object\n",
       "Year                                     int64\n",
       "Attack Type                             object\n",
       "Target Industry                         object\n",
       "Financial Loss (in Million $)          float64\n",
       "Number of Affected Users                 int64\n",
       "Attack Source                           object\n",
       "Security Vulnerability Type             object\n",
       "Defense Mechanism Used                  object\n",
       "Incident Resolution Time (in Hours)      int64\n",
       "dtype: object"
      ]
     },
     "execution_count": 10,
     "metadata": {},
     "output_type": "execute_result"
    }
   ],
   "source": [
    "df.dtypes"
   ]
  },
  {
   "cell_type": "code",
   "execution_count": 11,
   "id": "32fe7de0-1c64-4097-8010-440506b47a9f",
   "metadata": {},
   "outputs": [
    {
     "data": {
      "text/plain": [
       "4"
      ]
     },
     "execution_count": 11,
     "metadata": {},
     "output_type": "execute_result"
    }
   ],
   "source": [
    "numerics = [\"int16\", \"int32\", \"int64\", \"float16\", \"float32\", \"float64\"]\n",
    "numeric_df = df.select_dtypes(include = numerics)\n",
    "len(numeric_df.columns)"
   ]
  },
  {
   "cell_type": "markdown",
   "id": "54799f13-8e50-481e-9a1e-1927ee9180fc",
   "metadata": {},
   "source": [
    "# Data Exploration"
   ]
  },
  {
   "cell_type": "code",
   "execution_count": 12,
   "id": "9a588e4b-4f01-4c94-b37e-f2e06aa69a22",
   "metadata": {},
   "outputs": [
    {
     "data": {
      "text/plain": [
       "array(['China', 'India', 'UK', 'Germany', 'France', 'Australia', 'Russia',\n",
       "       'Brazil', 'Japan', 'USA'], dtype=object)"
      ]
     },
     "execution_count": 12,
     "metadata": {},
     "output_type": "execute_result"
    }
   ],
   "source": [
    "# COUNTRY\n",
    "df[\"Country\"].unique()"
   ]
  },
  {
   "cell_type": "code",
   "execution_count": 13,
   "id": "d9b1f6ee-dad0-4e5a-b7c8-34443b772014",
   "metadata": {},
   "outputs": [
    {
     "data": {
      "text/plain": [
       "10"
      ]
     },
     "execution_count": 13,
     "metadata": {},
     "output_type": "execute_result"
    }
   ],
   "source": [
    "df[\"Country\"].nunique()"
   ]
  },
  {
   "cell_type": "code",
   "execution_count": 14,
   "id": "18a635ff-5608-4707-82fe-0499c8fe4502",
   "metadata": {},
   "outputs": [
    {
     "data": {
      "text/plain": [
       "Country\n",
       "UK           321\n",
       "Brazil       310\n",
       "India        308\n",
       "France       305\n",
       "Japan        305\n",
       "Australia    297\n",
       "Russia       295\n",
       "Germany      291\n",
       "USA          287\n",
       "China        281\n",
       "Name: count, dtype: int64"
      ]
     },
     "execution_count": 14,
     "metadata": {},
     "output_type": "execute_result"
    }
   ],
   "source": [
    "df[\"Country\"].value_counts()"
   ]
  },
  {
   "cell_type": "code",
   "execution_count": 15,
   "id": "0cb243bc-2bb0-47a2-b13f-8bfc4ea6cbf5",
   "metadata": {},
   "outputs": [
    {
     "data": {
      "text/plain": [
       "dtype('int64')"
      ]
     },
     "execution_count": 15,
     "metadata": {},
     "output_type": "execute_result"
    }
   ],
   "source": [
    "df[\"Year\"].dtype"
   ]
  },
  {
   "cell_type": "code",
   "execution_count": 16,
   "id": "d7291587-87d1-4411-8bbc-46ac86b44072",
   "metadata": {},
   "outputs": [
    {
     "data": {
      "text/plain": [
       "array([2019, 2017, 2024, 2018, 2016, 2023, 2022, 2015, 2021, 2020],\n",
       "      dtype=int64)"
      ]
     },
     "execution_count": 16,
     "metadata": {},
     "output_type": "execute_result"
    }
   ],
   "source": [
    "# YEAR\n",
    "df[\"Year\"].unique()"
   ]
  },
  {
   "cell_type": "code",
   "execution_count": 17,
   "id": "aa16d945-e9c3-4d3e-a196-c874fb2c6edb",
   "metadata": {},
   "outputs": [
    {
     "data": {
      "text/plain": [
       "10"
      ]
     },
     "execution_count": 17,
     "metadata": {},
     "output_type": "execute_result"
    }
   ],
   "source": [
    "df[\"Year\"].nunique()"
   ]
  },
  {
   "cell_type": "code",
   "execution_count": 18,
   "id": "5326ceed-401d-482f-bc87-27527ff0d0f7",
   "metadata": {},
   "outputs": [
    {
     "data": {
      "text/plain": [
       "Year\n",
       "2017    319\n",
       "2022    318\n",
       "2023    315\n",
       "2020    315\n",
       "2018    310\n",
       "2024    299\n",
       "2021    299\n",
       "2016    285\n",
       "2015    277\n",
       "2019    263\n",
       "Name: count, dtype: int64"
      ]
     },
     "execution_count": 18,
     "metadata": {},
     "output_type": "execute_result"
    }
   ],
   "source": [
    "df[\"Year\"].value_counts()"
   ]
  },
  {
   "cell_type": "code",
   "execution_count": 19,
   "id": "d6e2b949-ecb5-47b6-99a4-0b551117988c",
   "metadata": {},
   "outputs": [
    {
     "data": {
      "text/plain": [
       "<Axes: xlabel='Year', ylabel='count'>"
      ]
     },
     "execution_count": 19,
     "metadata": {},
     "output_type": "execute_result"
    },
    {
     "data": {
      "image/png": "[encoded data removed]",
      "text/plain": [
       "<Figure size 640x480 with 1 Axes>"
      ]
     },
     "metadata": {},
     "output_type": "display_data"
    }
   ],
   "source": [
    "sns.countplot(data = df, x = 'Year')"
   ]
  },
  {
   "cell_type": "code",
   "execution_count": 20,
   "id": "0d63d56b-6d26-45ab-976f-fad177dd73db",
   "metadata": {},
   "outputs": [
    {
     "data": {
      "text/plain": [
       "-0.027512929994344057"
      ]
     },
     "execution_count": 20,
     "metadata": {},
     "output_type": "execute_result"
    }
   ],
   "source": [
    "df[\"Year\"].skew()"
   ]
  },
  {
   "cell_type": "code",
   "execution_count": 21,
   "id": "ba689aba-b057-4c0b-815d-59364c0df897",
   "metadata": {},
   "outputs": [
    {
     "data": {
      "text/plain": [
       "<Axes: xlabel='Year', ylabel='Count'>"
      ]
     },
     "execution_count": 21,
     "metadata": {},
     "output_type": "execute_result"
    },
    {
     "data": {
      "image/png": "[encoded data removed]",
      "text/plain": [
       "<Figure size 640x480 with 1 Axes>"
      ]
     },
     "metadata": {},
     "output_type": "display_data"
    }
   ],
   "source": [
    "sns.histplot(data=df, x='Year', bins=10, kde=False, color='skyblue', edgecolor='black')"
   ]
  },
  {
   "cell_type": "code",
   "execution_count": 22,
   "id": "fb592922-a48c-4ed9-99a7-06c8e6118bdb",
   "metadata": {},
   "outputs": [
    {
     "data": {
      "text/plain": [
       "array(['Phishing', 'Ransomware', 'Man-in-the-Middle', 'DDoS',\n",
       "       'SQL Injection', 'Malware'], dtype=object)"
      ]
     },
     "execution_count": 22,
     "metadata": {},
     "output_type": "execute_result"
    }
   ],
   "source": [
    "# ATTACK TYPE\n",
    "df[\"Attack Type\"].unique()"
   ]
  },
  {
   "cell_type": "code",
   "execution_count": 23,
   "id": "5809de50-7faa-4c0c-bcf3-4a06bc088108",
   "metadata": {},
   "outputs": [
    {
     "data": {
      "text/plain": [
       "6"
      ]
     },
     "execution_count": 23,
     "metadata": {},
     "output_type": "execute_result"
    }
   ],
   "source": [
    "df[\"Attack Type\"].nunique()"
   ]
  },
  {
   "cell_type": "code",
   "execution_count": 24,
   "id": "2382bfda-a6a9-41ee-8288-5e6c6a16ece3",
   "metadata": {},
   "outputs": [
    {
     "data": {
      "text/plain": [
       "Attack Type\n",
       "DDoS                 531\n",
       "Phishing             529\n",
       "SQL Injection        503\n",
       "Ransomware           493\n",
       "Malware              485\n",
       "Man-in-the-Middle    459\n",
       "Name: count, dtype: int64"
      ]
     },
     "execution_count": 24,
     "metadata": {},
     "output_type": "execute_result"
    }
   ],
   "source": [
    "df[\"Attack Type\"].value_counts()"
   ]
  },
  {
   "cell_type": "code",
   "execution_count": 25,
   "id": "e74d36ef-5863-4595-8b48-2c8027216ec6",
   "metadata": {},
   "outputs": [
    {
     "data": {
      "text/plain": [
       "array(['Education', 'Retail', 'IT', 'Telecommunications', 'Government',\n",
       "       'Banking', 'Healthcare'], dtype=object)"
      ]
     },
     "execution_count": 25,
     "metadata": {},
     "output_type": "execute_result"
    }
   ],
   "source": [
    "# TARGET INDUSTRY\n",
    "df[\"Target Industry\"].unique()"
   ]
  },
  {
   "cell_type": "markdown",
   "id": "c4648063-ef45-4b29-a5c5-e648f187e5ea",
   "metadata": {},
   "source": []
  },
  {
   "cell_type": "code",
   "execution_count": 26,
   "id": "e40bc780-e36b-4fee-be19-e58bef012e1a",
   "metadata": {},
   "outputs": [
    {
     "data": {
      "text/plain": [
       "7"
      ]
     },
     "execution_count": 26,
     "metadata": {},
     "output_type": "execute_result"
    }
   ],
   "source": [
    "df[\"Target Industry\"].nunique()"
   ]
  },
  {
   "cell_type": "code",
   "execution_count": 27,
   "id": "5103abf4-7e48-49cb-992d-1604ce3957bc",
   "metadata": {},
   "outputs": [
    {
     "data": {
      "text/plain": [
       "Target Industry\n",
       "IT                    478\n",
       "Banking               445\n",
       "Healthcare            429\n",
       "Retail                423\n",
       "Education             419\n",
       "Telecommunications    403\n",
       "Government            403\n",
       "Name: count, dtype: int64"
      ]
     },
     "execution_count": 27,
     "metadata": {},
     "output_type": "execute_result"
    }
   ],
   "source": [
    "df[\"Target Industry\"].value_counts()"
   ]
  },
  {
   "cell_type": "code",
   "execution_count": 28,
   "id": "d063f53d-789d-4a33-b75c-b3dde2020756",
   "metadata": {},
   "outputs": [
    {
     "data": {
      "text/plain": [
       "dtype('float64')"
      ]
     },
     "execution_count": 28,
     "metadata": {},
     "output_type": "execute_result"
    }
   ],
   "source": [
    "df[\"Financial Loss (in Million $)\"].dtype"
   ]
  },
  {
   "cell_type": "code",
   "execution_count": 29,
   "id": "96fe7823-41df-48f9-9675-6a35ff510b52",
   "metadata": {},
   "outputs": [
    {
     "data": {
      "text/plain": [
       "array([80.53, 62.19, 38.65, ..., 32.97, 32.17, 48.2 ])"
      ]
     },
     "execution_count": 29,
     "metadata": {},
     "output_type": "execute_result"
    }
   ],
   "source": [
    "# Financial Loss (in Million $)    \n",
    "df[\"Financial Loss (in Million $)\"].unique()"
   ]
  },
  {
   "cell_type": "code",
   "execution_count": 30,
   "id": "4533670f-89bd-4963-8a5a-0abcafc7e721",
   "metadata": {},
   "outputs": [
    {
     "data": {
      "text/plain": [
       "2536"
      ]
     },
     "execution_count": 30,
     "metadata": {},
     "output_type": "execute_result"
    }
   ],
   "source": [
    "df[\"Financial Loss (in Million $)\"].nunique()"
   ]
  },
  {
   "cell_type": "code",
   "execution_count": 31,
   "id": "9a58594e-6c14-4e11-915d-cb4e56c120d2",
   "metadata": {},
   "outputs": [
    {
     "data": {
      "text/plain": [
       "0"
      ]
     },
     "execution_count": 31,
     "metadata": {},
     "output_type": "execute_result"
    }
   ],
   "source": [
    "df['Financial Loss (in Million $)'].isnull().sum()"
   ]
  },
  {
   "cell_type": "code",
   "execution_count": 32,
   "id": "a8da88e4-0388-4c01-ba12-d12d61755e85",
   "metadata": {},
   "outputs": [
    {
     "data": {
      "text/plain": [
       "count    3000.000000\n",
       "mean       50.492970\n",
       "std        28.791415\n",
       "min         0.500000\n",
       "25%        25.757500\n",
       "50%        50.795000\n",
       "75%        75.630000\n",
       "max        99.990000\n",
       "Name: Financial Loss (in Million $), dtype: float64"
      ]
     },
     "execution_count": 32,
     "metadata": {},
     "output_type": "execute_result"
    }
   ],
   "source": [
    "df[\"Financial Loss (in Million $)\"].describe()"
   ]
  },
  {
   "cell_type": "code",
   "execution_count": 33,
   "id": "d21df30e-4593-4fab-b16f-ce0796f37f56",
   "metadata": {},
   "outputs": [
    {
     "name": "stdout",
     "output_type": "stream",
     "text": [
      "99.49\n"
     ]
    }
   ],
   "source": [
    "range = df['Financial Loss (in Million $)'].max() - df['Financial Loss (in Million $)'].min()\n",
    "print(range)"
   ]
  },
  {
   "cell_type": "code",
   "execution_count": 35,
   "id": "7650e79b-39c6-43dc-8221-6dfd7817bd87",
   "metadata": {},
   "outputs": [
    {
     "data": {
      "text/plain": [
       "-0.016860394542015506"
      ]
     },
     "execution_count": 35,
     "metadata": {},
     "output_type": "execute_result"
    }
   ],
   "source": [
    "df[\"Financial Loss (in Million $)\"].skew()"
   ]
  },
  {
   "cell_type": "code",
   "execution_count": 36,
   "id": "8e9ba922-5189-4227-a081-ad3ea2222005",
   "metadata": {},
   "outputs": [
    {
     "data": {
      "text/plain": [
       "<Axes: xlabel='Financial Loss (in Million $)'>"
      ]
     },
     "execution_count": 36,
     "metadata": {},
     "output_type": "execute_result"
    },
    {
     "data": {
      "image/png": "[encoded data removed]",
      "text/plain": [
       "<Figure size 640x480 with 1 Axes>"
      ]
     },
     "metadata": {},
     "output_type": "display_data"
    }
   ],
   "source": [
    "sns.boxplot(data = df, x ='Financial Loss (in Million $)')"
   ]
  },
  {
   "cell_type": "code",
   "execution_count": 37,
   "id": "717343ef-7535-4047-88b7-ffd956da8ff9",
   "metadata": {},
   "outputs": [
    {
     "data": {
      "text/plain": [
       "dtype('int64')"
      ]
     },
     "execution_count": 37,
     "metadata": {},
     "output_type": "execute_result"
    }
   ],
   "source": [
    "# Number of Affected Users\n",
    "df['Number of Affected Users'].dtypes"
   ]
  },
  {
   "cell_type": "code",
   "execution_count": 38,
   "id": "0ee4d01c-3158-4b6f-9ab4-84b0090ab9f4",
   "metadata": {},
   "outputs": [
    {
     "data": {
      "text/plain": [
       "array([773169, 295961, 605895, ..., 734737, 379954, 480984], dtype=int64)"
      ]
     },
     "execution_count": 38,
     "metadata": {},
     "output_type": "execute_result"
    }
   ],
   "source": [
    "\n",
    "df[\"Number of Affected Users\"].unique()"
   ]
  },
  {
   "cell_type": "code",
   "execution_count": 39,
   "id": "b865f774-89ea-4270-a251-5d0eec6c40ec",
   "metadata": {},
   "outputs": [
    {
     "data": {
      "text/plain": [
       "2998"
      ]
     },
     "execution_count": 39,
     "metadata": {},
     "output_type": "execute_result"
    }
   ],
   "source": [
    "df[\"Number of Affected Users\"].nunique()"
   ]
  },
  {
   "cell_type": "code",
   "execution_count": 40,
   "id": "04823cf3-e3f9-4e6e-ab47-ca3acb567be9",
   "metadata": {},
   "outputs": [
    {
     "data": {
      "text/plain": [
       "Number of Affected Users\n",
       "164890    2\n",
       "737958    2\n",
       "3200      1\n",
       "760892    1\n",
       "204624    1\n",
       "         ..\n",
       "973654    1\n",
       "78123     1\n",
       "675955    1\n",
       "122866    1\n",
       "480984    1\n",
       "Name: count, Length: 2998, dtype: int64"
      ]
     },
     "execution_count": 40,
     "metadata": {},
     "output_type": "execute_result"
    }
   ],
   "source": [
    "df[\"Number of Affected Users\"].value_counts()"
   ]
  },
  {
   "cell_type": "code",
   "execution_count": 41,
   "id": "7568acbe-b41b-4f74-9a10-3c19621fce3d",
   "metadata": {
    "scrolled": true
   },
   "outputs": [
    {
     "data": {
      "text/plain": [
       "0"
      ]
     },
     "execution_count": 41,
     "metadata": {},
     "output_type": "execute_result"
    }
   ],
   "source": [
    "df['Number of Affected Users'].isnull().sum()"
   ]
  },
  {
   "cell_type": "code",
   "execution_count": 42,
   "id": "291c7f30-4eb3-4d40-80be-ef60a6f06703",
   "metadata": {},
   "outputs": [
    {
     "data": {
      "text/plain": [
       "count      3000.000000\n",
       "mean     504684.136333\n",
       "std      289944.084972\n",
       "min         424.000000\n",
       "25%      255805.250000\n",
       "50%      504513.000000\n",
       "75%      758088.500000\n",
       "max      999635.000000\n",
       "Name: Number of Affected Users, dtype: float64"
      ]
     },
     "execution_count": 42,
     "metadata": {},
     "output_type": "execute_result"
    }
   ],
   "source": [
    "df['Number of Affected Users'].describe()"
   ]
  },
  {
   "cell_type": "code",
   "execution_count": null,
   "id": "e09b886c-1dd5-48c9-b704-bcf2e4738c3d",
   "metadata": {},
   "outputs": [],
   "source": []
  },
  {
   "cell_type": "code",
   "execution_count": 43,
   "id": "4675e244-7717-4a4b-9008-5c9aace54d56",
   "metadata": {},
   "outputs": [
    {
     "data": {
      "text/plain": [
       "-0.025396908917175942"
      ]
     },
     "execution_count": 43,
     "metadata": {},
     "output_type": "execute_result"
    }
   ],
   "source": [
    "df['Number of Affected Users'].skew()"
   ]
  },
  {
   "cell_type": "code",
   "execution_count": 44,
   "id": "ab4b2a27-7a86-4131-9082-781bb962d6ad",
   "metadata": {},
   "outputs": [
    {
     "data": {
      "text/plain": [
       "<Axes: xlabel='Number of Affected Users', ylabel='count'>"
      ]
     },
     "execution_count": 44,
     "metadata": {},
     "output_type": "execute_result"
    },
    {
     "data": {
      "image/png": "[encoded data removed]",
      "text/plain": [
       "<Figure size 640x480 with 1 Axes>"
      ]
     },
     "metadata": {},
     "output_type": "display_data"
    }
   ],
   "source": [
    "sns.countplot(data = df, x = 'Number of Affected Users')"
   ]
  },
  {
   "cell_type": "code",
   "execution_count": 45,
   "id": "a7229fb5-89fd-46e5-9806-7a78d31a4c81",
   "metadata": {},
   "outputs": [
    {
     "data": {
      "text/plain": [
       "array(['Hacker Group', 'Nation-state', 'Insider', 'Unknown'], dtype=object)"
      ]
     },
     "execution_count": 45,
     "metadata": {},
     "output_type": "execute_result"
    }
   ],
   "source": [
    "# Attack Source    \n",
    "df[\"Attack Source\"].unique()"
   ]
  },
  {
   "cell_type": "code",
   "execution_count": 46,
   "id": "632b310d-2e7e-44c3-b66e-cd9f5e62bc69",
   "metadata": {},
   "outputs": [
    {
     "data": {
      "text/plain": [
       "4"
      ]
     },
     "execution_count": 46,
     "metadata": {},
     "output_type": "execute_result"
    }
   ],
   "source": [
    "df[\"Attack Source\"].nunique()"
   ]
  },
  {
   "cell_type": "code",
   "execution_count": 47,
   "id": "4d9e07ce-f1b4-45c9-a055-bd4a8a01939a",
   "metadata": {},
   "outputs": [
    {
     "data": {
      "text/plain": [
       "Attack Source\n",
       "Nation-state    794\n",
       "Unknown         768\n",
       "Insider         752\n",
       "Hacker Group    686\n",
       "Name: count, dtype: int64"
      ]
     },
     "execution_count": 47,
     "metadata": {},
     "output_type": "execute_result"
    }
   ],
   "source": [
    "df[\"Attack Source\"].value_counts()"
   ]
  },
  {
   "cell_type": "code",
   "execution_count": 48,
   "id": "711ed6a1-176d-4299-aec3-cecd04660a03",
   "metadata": {},
   "outputs": [
    {
     "data": {
      "text/plain": [
       "array(['Unpatched Software', 'Weak Passwords', 'Social Engineering',\n",
       "       'Zero-day'], dtype=object)"
      ]
     },
     "execution_count": 48,
     "metadata": {},
     "output_type": "execute_result"
    }
   ],
   "source": [
    "# Security Vulnerability Type\n",
    "df[\"Security Vulnerability Type\"].unique()"
   ]
  },
  {
   "cell_type": "code",
   "execution_count": 49,
   "id": "4a789208-1d86-48a4-8572-27c77e048119",
   "metadata": {},
   "outputs": [
    {
     "data": {
      "text/plain": [
       "4"
      ]
     },
     "execution_count": 49,
     "metadata": {},
     "output_type": "execute_result"
    }
   ],
   "source": [
    "df[\"Security Vulnerability Type\"].nunique()"
   ]
  },
  {
   "cell_type": "code",
   "execution_count": 50,
   "id": "4d578b01-2ae0-47d5-87c0-bfa357cab852",
   "metadata": {},
   "outputs": [
    {
     "data": {
      "text/plain": [
       "Security Vulnerability Type\n",
       "Zero-day              785\n",
       "Social Engineering    747\n",
       "Unpatched Software    738\n",
       "Weak Passwords        730\n",
       "Name: count, dtype: int64"
      ]
     },
     "execution_count": 50,
     "metadata": {},
     "output_type": "execute_result"
    }
   ],
   "source": [
    "df[\"Security Vulnerability Type\"].value_counts()"
   ]
  },
  {
   "cell_type": "code",
   "execution_count": 51,
   "id": "f2300593-1a3f-4231-928f-96304e1d5f2f",
   "metadata": {},
   "outputs": [
    {
     "data": {
      "text/plain": [
       "array(['VPN', 'Firewall', 'AI-based Detection', 'Antivirus', 'Encryption'],\n",
       "      dtype=object)"
      ]
     },
     "execution_count": 51,
     "metadata": {},
     "output_type": "execute_result"
    }
   ],
   "source": [
    "# Defense Mechanism Used\n",
    "df[\"Defense Mechanism Used\"].unique()"
   ]
  },
  {
   "cell_type": "code",
   "execution_count": 52,
   "id": "8bd939b5-40d3-40d6-8053-11bfcfe0b52f",
   "metadata": {},
   "outputs": [
    {
     "data": {
      "text/plain": [
       "5"
      ]
     },
     "execution_count": 52,
     "metadata": {},
     "output_type": "execute_result"
    }
   ],
   "source": [
    "df[\"Defense Mechanism Used\"].nunique()"
   ]
  },
  {
   "cell_type": "code",
   "execution_count": 53,
   "id": "a9467e04-b997-4480-b862-243f57e811c6",
   "metadata": {},
   "outputs": [
    {
     "data": {
      "text/plain": [
       "Defense Mechanism Used\n",
       "Antivirus             628\n",
       "VPN                   612\n",
       "Encryption            592\n",
       "Firewall              585\n",
       "AI-based Detection    583\n",
       "Name: count, dtype: int64"
      ]
     },
     "execution_count": 53,
     "metadata": {},
     "output_type": "execute_result"
    }
   ],
   "source": [
    "df[\"Defense Mechanism Used\"].value_counts()"
   ]
  },
  {
   "cell_type": "code",
   "execution_count": 54,
   "id": "c3e5d0ac-4f96-4046-95f7-8ff0118de464",
   "metadata": {},
   "outputs": [
    {
     "data": {
      "text/plain": [
       "dtype('int64')"
      ]
     },
     "execution_count": 54,
     "metadata": {},
     "output_type": "execute_result"
    }
   ],
   "source": [
    "# Incident Resolution Time (in Hours) \n",
    "df['Incident Resolution Time (in Hours)'].dtypes"
   ]
  },
  {
   "cell_type": "code",
   "execution_count": 55,
   "id": "ff025dbc-163a-4803-989b-98147cbfcbac",
   "metadata": {},
   "outputs": [
    {
     "data": {
      "text/plain": [
       "array([63, 71, 20,  7, 68, 25, 34, 66, 47, 58, 29, 27, 37, 35, 64, 36, 67,\n",
       "       56, 28,  6, 43, 11, 30, 32, 52, 53, 24,  9, 61, 21, 31, 70, 12, 62,\n",
       "        3, 57, 69, 19, 65, 40, 17, 51, 23, 10, 14, 55, 16, 41,  5, 54,  4,\n",
       "       42,  1, 15, 49, 18, 38, 22, 33,  2, 72, 50, 45, 26, 39, 48, 44, 60,\n",
       "        8, 46, 13, 59], dtype=int64)"
      ]
     },
     "execution_count": 55,
     "metadata": {},
     "output_type": "execute_result"
    }
   ],
   "source": [
    "# Incident Resolution Time (in Hours) \n",
    "df[\"Incident Resolution Time (in Hours)\"].unique()"
   ]
  },
  {
   "cell_type": "code",
   "execution_count": 56,
   "id": "03e50b67-74e7-4e29-9be4-c90654ea3b3a",
   "metadata": {},
   "outputs": [
    {
     "data": {
      "text/plain": [
       "72"
      ]
     },
     "execution_count": 56,
     "metadata": {},
     "output_type": "execute_result"
    }
   ],
   "source": [
    "df[\"Incident Resolution Time (in Hours)\"].nunique()"
   ]
  },
  {
   "cell_type": "code",
   "execution_count": 57,
   "id": "9e6d7cee-780e-485a-b8f5-f87e1d044f9a",
   "metadata": {},
   "outputs": [
    {
     "data": {
      "text/plain": [
       "Incident Resolution Time (in Hours)\n",
       "43    56\n",
       "54    54\n",
       "20    54\n",
       "29    54\n",
       "37    52\n",
       "      ..\n",
       "36    32\n",
       "52    31\n",
       "60    31\n",
       "50    29\n",
       "1     29\n",
       "Name: count, Length: 72, dtype: int64"
      ]
     },
     "execution_count": 57,
     "metadata": {},
     "output_type": "execute_result"
    }
   ],
   "source": [
    "df[\"Incident Resolution Time (in Hours)\"].value_counts()"
   ]
  },
  {
   "cell_type": "code",
   "execution_count": 58,
   "id": "1c93c763-cd25-47ba-8784-b3b078cd76d2",
   "metadata": {},
   "outputs": [
    {
     "data": {
      "text/plain": [
       "count    3000.000000\n",
       "mean       36.476000\n",
       "std        20.570768\n",
       "min         1.000000\n",
       "25%        19.000000\n",
       "50%        37.000000\n",
       "75%        55.000000\n",
       "max        72.000000\n",
       "Name: Incident Resolution Time (in Hours), dtype: float64"
      ]
     },
     "execution_count": 58,
     "metadata": {},
     "output_type": "execute_result"
    }
   ],
   "source": [
    "df['Incident Resolution Time (in Hours)'].describe()"
   ]
  },
  {
   "cell_type": "code",
   "execution_count": 59,
   "id": "a771c527-803c-4933-8a47-7dd4b7e61091",
   "metadata": {},
   "outputs": [
    {
     "data": {
      "text/plain": [
       "0.011103803006331533"
      ]
     },
     "execution_count": 59,
     "metadata": {},
     "output_type": "execute_result"
    }
   ],
   "source": [
    "df['Incident Resolution Time (in Hours)'].skew()"
   ]
  },
  {
   "cell_type": "markdown",
   "id": "ca0075b8-a7fd-4846-85e8-78917aa9a403",
   "metadata": {},
   "source": [
    "# Data Cleaning"
   ]
  },
  {
   "cell_type": "code",
   "execution_count": 68,
   "id": "f965c44d-e042-452b-a518-241bdab348e8",
   "metadata": {},
   "outputs": [
    {
     "data": {
      "text/plain": [
       "(3000, 10)"
      ]
     },
     "execution_count": 68,
     "metadata": {},
     "output_type": "execute_result"
    }
   ],
   "source": [
    "df.shape"
   ]
  },
  {
   "cell_type": "code",
   "execution_count": 61,
   "id": "c4833f17-6725-4048-86dc-bb746fa48f4c",
   "metadata": {},
   "outputs": [
    {
     "name": "stdout",
     "output_type": "stream",
     "text": [
      "Continuous Columns:\n",
      " ['Year', 'Financial Loss (in Million $)', 'Number of Affected Users', 'Incident Resolution Time (in Hours)']\n",
      "Categorical Columns:\n",
      " ['Country', 'Attack Type', 'Target Industry', 'Attack Source', 'Security Vulnerability Type', 'Defense Mechanism Used']\n"
     ]
    }
   ],
   "source": [
    "# Separate continuous columns\n",
    "continuous_cols = df.select_dtypes(include=[\"int16\", \"int32\", \"int64\", \"float16\", \"float32\", \"float64\"]).columns.tolist()\n",
    "\n",
    "# Separate categorical columns\n",
    "categorical_cols = df.select_dtypes(include=['object', 'category']).columns.tolist()\n",
    "\n",
    "# Print them\n",
    "print(\"Continuous Columns:\\n\", continuous_cols)\n",
    "print(\"Categorical Columns:\\n\", categorical_cols)\n"
   ]
  },
  {
   "cell_type": "code",
   "execution_count": 62,
   "id": "a1940af5-d6fd-48bd-9e7e-60cba619ebde",
   "metadata": {},
   "outputs": [
    {
     "data": {
      "text/html": [
       "<div>\n",
       "<style scoped>\n",
       "    .dataframe tbody tr th:only-of-type {\n",
       "        vertical-align: middle;\n",
       "    }\n",
       "\n",
       "    .dataframe tbody tr th {\n",
       "        vertical-align: top;\n",
       "    }\n",
       "\n",
       "    .dataframe thead th {\n",
       "        text-align: right;\n",
       "    }\n",
       "</style>\n",
       "<table border=\"1\" class=\"dataframe\">\n",
       "  <thead>\n",
       "    <tr style=\"text-align: right;\">\n",
       "      <th></th>\n",
       "      <th>Year</th>\n",
       "      <th>Financial Loss (in Million $)</th>\n",
       "      <th>Number of Affected Users</th>\n",
       "      <th>Incident Resolution Time (in Hours)</th>\n",
       "    </tr>\n",
       "  </thead>\n",
       "  <tbody>\n",
       "    <tr>\n",
       "      <th>count</th>\n",
       "      <td>3000.000000</td>\n",
       "      <td>3000.000000</td>\n",
       "      <td>3000.000000</td>\n",
       "      <td>3000.000000</td>\n",
       "    </tr>\n",
       "    <tr>\n",
       "      <th>mean</th>\n",
       "      <td>2019.570333</td>\n",
       "      <td>50.492970</td>\n",
       "      <td>504684.136333</td>\n",
       "      <td>36.476000</td>\n",
       "    </tr>\n",
       "    <tr>\n",
       "      <th>std</th>\n",
       "      <td>2.857932</td>\n",
       "      <td>28.791415</td>\n",
       "      <td>289944.084972</td>\n",
       "      <td>20.570768</td>\n",
       "    </tr>\n",
       "    <tr>\n",
       "      <th>min</th>\n",
       "      <td>2015.000000</td>\n",
       "      <td>0.500000</td>\n",
       "      <td>424.000000</td>\n",
       "      <td>1.000000</td>\n",
       "    </tr>\n",
       "    <tr>\n",
       "      <th>25%</th>\n",
       "      <td>2017.000000</td>\n",
       "      <td>25.757500</td>\n",
       "      <td>255805.250000</td>\n",
       "      <td>19.000000</td>\n",
       "    </tr>\n",
       "    <tr>\n",
       "      <th>50%</th>\n",
       "      <td>2020.000000</td>\n",
       "      <td>50.795000</td>\n",
       "      <td>504513.000000</td>\n",
       "      <td>37.000000</td>\n",
       "    </tr>\n",
       "    <tr>\n",
       "      <th>75%</th>\n",
       "      <td>2022.000000</td>\n",
       "      <td>75.630000</td>\n",
       "      <td>758088.500000</td>\n",
       "      <td>55.000000</td>\n",
       "    </tr>\n",
       "    <tr>\n",
       "      <th>max</th>\n",
       "      <td>2024.000000</td>\n",
       "      <td>99.990000</td>\n",
       "      <td>999635.000000</td>\n",
       "      <td>72.000000</td>\n",
       "    </tr>\n",
       "  </tbody>\n",
       "</table>\n",
       "</div>"
      ],
      "text/plain": [
       "              Year  Financial Loss (in Million $)  Number of Affected Users  \\\n",
       "count  3000.000000                    3000.000000               3000.000000   \n",
       "mean   2019.570333                      50.492970             504684.136333   \n",
       "std       2.857932                      28.791415             289944.084972   \n",
       "min    2015.000000                       0.500000                424.000000   \n",
       "25%    2017.000000                      25.757500             255805.250000   \n",
       "50%    2020.000000                      50.795000             504513.000000   \n",
       "75%    2022.000000                      75.630000             758088.500000   \n",
       "max    2024.000000                      99.990000             999635.000000   \n",
       "\n",
       "       Incident Resolution Time (in Hours)  \n",
       "count                          3000.000000  \n",
       "mean                             36.476000  \n",
       "std                              20.570768  \n",
       "min                               1.000000  \n",
       "25%                              19.000000  \n",
       "50%                              37.000000  \n",
       "75%                              55.000000  \n",
       "max                              72.000000  "
      ]
     },
     "execution_count": 62,
     "metadata": {},
     "output_type": "execute_result"
    }
   ],
   "source": [
    "df[continuous_cols].describe()"
   ]
  },
  {
   "cell_type": "code",
   "execution_count": 63,
   "id": "bb018b88-5c87-4f44-b838-908a6b1544b7",
   "metadata": {},
   "outputs": [
    {
     "data": {
      "text/html": [
       "<div>\n",
       "<style scoped>\n",
       "    .dataframe tbody tr th:only-of-type {\n",
       "        vertical-align: middle;\n",
       "    }\n",
       "\n",
       "    .dataframe tbody tr th {\n",
       "        vertical-align: top;\n",
       "    }\n",
       "\n",
       "    .dataframe thead th {\n",
       "        text-align: right;\n",
       "    }\n",
       "</style>\n",
       "<table border=\"1\" class=\"dataframe\">\n",
       "  <thead>\n",
       "    <tr style=\"text-align: right;\">\n",
       "      <th></th>\n",
       "      <th>Country</th>\n",
       "      <th>Attack Type</th>\n",
       "      <th>Target Industry</th>\n",
       "      <th>Attack Source</th>\n",
       "      <th>Security Vulnerability Type</th>\n",
       "      <th>Defense Mechanism Used</th>\n",
       "    </tr>\n",
       "  </thead>\n",
       "  <tbody>\n",
       "    <tr>\n",
       "      <th>count</th>\n",
       "      <td>3000</td>\n",
       "      <td>3000</td>\n",
       "      <td>3000</td>\n",
       "      <td>3000</td>\n",
       "      <td>3000</td>\n",
       "      <td>3000</td>\n",
       "    </tr>\n",
       "    <tr>\n",
       "      <th>unique</th>\n",
       "      <td>10</td>\n",
       "      <td>6</td>\n",
       "      <td>7</td>\n",
       "      <td>4</td>\n",
       "      <td>4</td>\n",
       "      <td>5</td>\n",
       "    </tr>\n",
       "    <tr>\n",
       "      <th>top</th>\n",
       "      <td>UK</td>\n",
       "      <td>DDoS</td>\n",
       "      <td>IT</td>\n",
       "      <td>Nation-state</td>\n",
       "      <td>Zero-day</td>\n",
       "      <td>Antivirus</td>\n",
       "    </tr>\n",
       "    <tr>\n",
       "      <th>freq</th>\n",
       "      <td>321</td>\n",
       "      <td>531</td>\n",
       "      <td>478</td>\n",
       "      <td>794</td>\n",
       "      <td>785</td>\n",
       "      <td>628</td>\n",
       "    </tr>\n",
       "  </tbody>\n",
       "</table>\n",
       "</div>"
      ],
      "text/plain": [
       "       Country Attack Type Target Industry Attack Source  \\\n",
       "count     3000        3000            3000          3000   \n",
       "unique      10           6               7             4   \n",
       "top         UK        DDoS              IT  Nation-state   \n",
       "freq       321         531             478           794   \n",
       "\n",
       "       Security Vulnerability Type Defense Mechanism Used  \n",
       "count                         3000                   3000  \n",
       "unique                           4                      5  \n",
       "top                       Zero-day              Antivirus  \n",
       "freq                           785                    628  "
      ]
     },
     "execution_count": 63,
     "metadata": {},
     "output_type": "execute_result"
    }
   ],
   "source": [
    "df[categorical_cols].describe()"
   ]
  },
  {
   "cell_type": "code",
   "execution_count": 64,
   "id": "2d74fe89-9632-4779-bdc7-46e43fed5dbc",
   "metadata": {},
   "outputs": [],
   "source": [
    "# RENAME COLUMN\n",
    "df.rename(columns = {'Financial Loss (in Million $)': 'Financial Loss',\n",
    "                    'Incident Resolution Time (in Hours)': 'Incident Resolution Time'},inplace = True)"
   ]
  },
  {
   "cell_type": "code",
   "execution_count": 66,
   "id": "36042a3b-6bc9-4ba1-860f-85004d28eef8",
   "metadata": {},
   "outputs": [
    {
     "data": {
      "text/html": [
       "<div>\n",
       "<style scoped>\n",
       "    .dataframe tbody tr th:only-of-type {\n",
       "        vertical-align: middle;\n",
       "    }\n",
       "\n",
       "    .dataframe tbody tr th {\n",
       "        vertical-align: top;\n",
       "    }\n",
       "\n",
       "    .dataframe thead th {\n",
       "        text-align: right;\n",
       "    }\n",
       "</style>\n",
       "<table border=\"1\" class=\"dataframe\">\n",
       "  <thead>\n",
       "    <tr style=\"text-align: right;\">\n",
       "      <th></th>\n",
       "      <th>Country</th>\n",
       "      <th>Year</th>\n",
       "      <th>Attack Type</th>\n",
       "      <th>Target Industry</th>\n",
       "      <th>Financial Loss</th>\n",
       "      <th>Number of Affected Users</th>\n",
       "      <th>Attack Source</th>\n",
       "      <th>Security Vulnerability Type</th>\n",
       "      <th>Defense Mechanism Used</th>\n",
       "      <th>Incident Resolution Time</th>\n",
       "    </tr>\n",
       "  </thead>\n",
       "  <tbody>\n",
       "    <tr>\n",
       "      <th>0</th>\n",
       "      <td>China</td>\n",
       "      <td>2019</td>\n",
       "      <td>Phishing</td>\n",
       "      <td>Education</td>\n",
       "      <td>80.53</td>\n",
       "      <td>773169</td>\n",
       "      <td>Hacker Group</td>\n",
       "      <td>Unpatched Software</td>\n",
       "      <td>VPN</td>\n",
       "      <td>63</td>\n",
       "    </tr>\n",
       "    <tr>\n",
       "      <th>1</th>\n",
       "      <td>China</td>\n",
       "      <td>2019</td>\n",
       "      <td>Ransomware</td>\n",
       "      <td>Retail</td>\n",
       "      <td>62.19</td>\n",
       "      <td>295961</td>\n",
       "      <td>Hacker Group</td>\n",
       "      <td>Unpatched Software</td>\n",
       "      <td>Firewall</td>\n",
       "      <td>71</td>\n",
       "    </tr>\n",
       "    <tr>\n",
       "      <th>2</th>\n",
       "      <td>India</td>\n",
       "      <td>2017</td>\n",
       "      <td>Man-in-the-Middle</td>\n",
       "      <td>IT</td>\n",
       "      <td>38.65</td>\n",
       "      <td>605895</td>\n",
       "      <td>Hacker Group</td>\n",
       "      <td>Weak Passwords</td>\n",
       "      <td>VPN</td>\n",
       "      <td>20</td>\n",
       "    </tr>\n",
       "    <tr>\n",
       "      <th>3</th>\n",
       "      <td>UK</td>\n",
       "      <td>2024</td>\n",
       "      <td>Ransomware</td>\n",
       "      <td>Telecommunications</td>\n",
       "      <td>41.44</td>\n",
       "      <td>659320</td>\n",
       "      <td>Nation-state</td>\n",
       "      <td>Social Engineering</td>\n",
       "      <td>AI-based Detection</td>\n",
       "      <td>7</td>\n",
       "    </tr>\n",
       "    <tr>\n",
       "      <th>4</th>\n",
       "      <td>Germany</td>\n",
       "      <td>2018</td>\n",
       "      <td>Man-in-the-Middle</td>\n",
       "      <td>IT</td>\n",
       "      <td>74.41</td>\n",
       "      <td>810682</td>\n",
       "      <td>Insider</td>\n",
       "      <td>Social Engineering</td>\n",
       "      <td>VPN</td>\n",
       "      <td>68</td>\n",
       "    </tr>\n",
       "  </tbody>\n",
       "</table>\n",
       "</div>"
      ],
      "text/plain": [
       "   Country  Year        Attack Type     Target Industry  Financial Loss  \\\n",
       "0    China  2019           Phishing           Education           80.53   \n",
       "1    China  2019         Ransomware              Retail           62.19   \n",
       "2    India  2017  Man-in-the-Middle                  IT           38.65   \n",
       "3       UK  2024         Ransomware  Telecommunications           41.44   \n",
       "4  Germany  2018  Man-in-the-Middle                  IT           74.41   \n",
       "\n",
       "   Number of Affected Users Attack Source Security Vulnerability Type  \\\n",
       "0                    773169  Hacker Group          Unpatched Software   \n",
       "1                    295961  Hacker Group          Unpatched Software   \n",
       "2                    605895  Hacker Group              Weak Passwords   \n",
       "3                    659320  Nation-state          Social Engineering   \n",
       "4                    810682       Insider          Social Engineering   \n",
       "\n",
       "  Defense Mechanism Used  Incident Resolution Time  \n",
       "0                    VPN                        63  \n",
       "1               Firewall                        71  \n",
       "2                    VPN                        20  \n",
       "3     AI-based Detection                         7  \n",
       "4                    VPN                        68  "
      ]
     },
     "execution_count": 66,
     "metadata": {},
     "output_type": "execute_result"
    }
   ],
   "source": [
    "df.head()"
   ]
  },
  {
   "cell_type": "markdown",
   "id": "330b3753-bb7a-4931-b326-e5af087df9ed",
   "metadata": {},
   "source": [
    "# Exploratory Data Analysis"
   ]
  },
  {
   "cell_type": "code",
   "execution_count": 71,
   "id": "b1ab36dd-487d-453d-bc92-f92da343d452",
   "metadata": {},
   "outputs": [
    {
     "data": {
      "image/png": "[encoded data removed]",
      "text/plain": [
       "<Figure size 1200x600 with 1 Axes>"
      ]
     },
     "metadata": {},
     "output_type": "display_data"
    }
   ],
   "source": [
    "# EXPLORATORY DATA ANALYSIS\n",
    "# 1. Cyber Threat Trend Analysis\n",
    "Threat_trend = df.groupby(['Year','Attack Type']).size().reset_index(name = 'Count')\n",
    "plt.figure(figsize = (12,6))\n",
    "sns.lineplot(data = Threat_trend, x = 'Year', y = 'Count', hue = 'Attack Type', marker = 'o')\n",
    "plt.title(\"Cyber Threat Trends Over Time\")\n",
    "plt.xticks(rotation = 45)\n",
    "plt.tight_layout()\n",
    "plt.show()\n",
    "\n"
   ]
  },
  {
   "cell_type": "code",
   "execution_count": 72,
   "id": "50f057f9-bf66-4f5a-a045-b6e55f260a49",
   "metadata": {},
   "outputs": [
    {
     "data": {
      "image/png": "[encoded data removed]",
      "text/plain": [
       "<Figure size 640x480 with 1 Axes>"
      ]
     },
     "metadata": {},
     "output_type": "display_data"
    }
   ],
   "source": [
    "# 2. Industry-Specific Risk Profiling\n",
    "industry_risk = df.groupby('Target Industry').agg({\n",
    "    'Financial Loss': 'mean',\n",
    "     'Attack Type': 'count'\n",
    "}).reset_index().rename(columns={'Attack Type': 'Total Attacks'})\n",
    "\n",
    "sns.barplot(x='Target Industry', y='Financial Loss', data=industry_risk)\n",
    "plt.xticks(rotation=45)\n",
    "plt.title('Average Financial Impact by Industry')\n",
    "plt.tight_layout()\n",
    "plt.show()\n"
   ]
  },
  {
   "cell_type": "code",
   "execution_count": 74,
   "id": "da654d48-1eb5-4b2a-93d1-5412d4af0c22",
   "metadata": {},
   "outputs": [
    {
     "data": {
      "image/png": "[encoded data removed]",
      "text/plain": [
       "<Figure size 1200x600 with 2 Axes>"
      ]
     },
     "metadata": {},
     "output_type": "display_data"
    }
   ],
   "source": [
    "#3. Country-Level Risk Mapping\n",
    "country_grouped = df.groupby('Country').agg({\n",
    "    'Financial Loss': 'mean',\n",
    "    'Attack Type': 'count'\n",
    "}).reset_index().rename(columns={'Attack Type': 'Total Attacks'})\n",
    "top_countries = country_grouped.sort_values(by='Total Attacks', ascending=False).head( )\n",
    "\n",
    "\n",
    "fig, ax1 = plt.subplots(figsize=(12, 6))\n",
    "\n",
    "# Bar chart for total attacks\n",
    "sns.barplot(data=top_countries, x='Country', y='Total Attacks', color='skyblue', ax=ax1)\n",
    "ax1.set_ylabel('Total Attacks', color='blue')\n",
    "ax1.set_title('Top 10 Countries by Cyber Attacks & Avg Financial Loss')\n",
    "ax1.tick_params(axis='y', labelcolor='blue')\n",
    "\n",
    "# Twin axis for financial loss\n",
    "ax2 = ax1.twinx()\n",
    "sns.lineplot(data=top_countries, x='Country', y='Financial Loss', color='red', marker='o', ax=ax2)\n",
    "ax2.set_ylabel('Avg Financial Loss', color='red')\n",
    "ax2.tick_params(axis='y', labelcolor='red')\n",
    "\n",
    "plt.xticks(rotation=45)\n",
    "plt.tight_layout()\n",
    "plt.show()\n"
   ]
  },
  {
   "cell_type": "code",
   "execution_count": 75,
   "id": "b9c8e5d3-454d-400a-af04-b7d99ee7658b",
   "metadata": {},
   "outputs": [
    {
     "data": {
      "image/png": "[encoded data removed]",
      "text/plain": [
       "<Figure size 640x480 with 1 Axes>"
      ]
     },
     "metadata": {},
     "output_type": "display_data"
    }
   ],
   "source": [
    "# 4. Response Time Optimization\n",
    "vector_response = df.groupby('Attack Type')['Incident Resolution Time'].mean().reset_index()\n",
    "\n",
    "sns.barplot(x='Incident Resolution Time', y='Attack Type', data=vector_response)\n",
    "plt.title('Average Response Time by Attack Vector')\n",
    "plt.tight_layout()\n",
    "plt.show()\n"
   ]
  },
  {
   "cell_type": "code",
   "execution_count": null,
   "id": "ae6fe4ce-0d03-450f-8335-be32477987c7",
   "metadata": {},
   "outputs": [],
   "source": [
    "\n",
    "\n"
   ]
  }
 ],
 "metadata": {
  "kernelspec": {
   "display_name": "Python 3 (ipykernel)",
   "language": "python",
   "name": "python3"
  },
  "language_info": {
   "codemirror_mode": {
    "name": "ipython",
    "version": 3
   },
   "file_extension": ".py",
   "mimetype": "text/x-python",
   "name": "python",
   "nbconvert_exporter": "python",
   "pygments_lexer": "ipython3",
   "version": "3.12.7"
  }
 },
 "nbformat": 4,
 "nbformat_minor": 5
}
